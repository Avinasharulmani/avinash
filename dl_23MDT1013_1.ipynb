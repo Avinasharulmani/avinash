{
 "cells": [
  {
   "cell_type": "code",
   "execution_count": 1,
   "id": "644be07f",
   "metadata": {},
   "outputs": [
    {
     "name": "stdout",
     "output_type": "stream",
     "text": [
      "Model: \"sequential\"\n",
      "_________________________________________________________________\n",
      " Layer (type)                Output Shape              Param #   \n",
      "=================================================================\n",
      " conv1d (Conv1D)             (None, 98, 32)            128       \n",
      "                                                                 \n",
      " max_pooling1d (MaxPooling1  (None, 49, 32)            0         \n",
      " D)                                                              \n",
      "                                                                 \n",
      " lstm (LSTM)                 (None, 64)                24832     \n",
      "                                                                 \n",
      " dense (Dense)               (None, 1)                 65        \n",
      "                                                                 \n",
      "=================================================================\n",
      "Total params: 25025 (97.75 KB)\n",
      "Trainable params: 25025 (97.75 KB)\n",
      "Non-trainable params: 0 (0.00 Byte)\n",
      "_________________________________________________________________\n"
     ]
    }
   ],
   "source": [
    "import numpy as np\n",
    "import pandas as pd\n",
    "import matplotlib.pyplot as plt\n",
    "import seaborn as sns\n",
    "import plotly.express as px\n",
    "\n",
    "# Import libraries\n",
    "from sklearn.model_selection import train_test_split\n",
    "from sklearn.metrics import roc_curve, auc\n",
    "from sklearn import metrics\n",
    "\n",
    "# Import TensorFlow and Keras modules\n",
    "import tensorflow as tf\n",
    "from tensorflow.keras.models import Sequential\n",
    "from tensorflow.keras.layers import Dense, Activation, Dropout, Flatten, Conv1D, MaxPooling1D, LSTM\n",
    "\n",
    "# Import pre-trained models from TensorFlow Keras applications\n",
    "from tensorflow.keras.applications import EfficientNetB0, EfficientNetB6, InceptionV3, ResNet50\n",
    "\n",
    "# Additional callbacks and optimizers\n",
    "from tensorflow.keras.callbacks import ModelCheckpoint, EarlyStopping, ReduceLROnPlateau\n",
    "from tensorflow.keras.optimizers import SGD, Adam\n",
    "\n",
    "# Example of defining a simple model (optional)\n",
    "model = Sequential()\n",
    "model.add(Conv1D(filters=32, kernel_size=3, activation='relu', input_shape=(100, 1)))  # Adjust input_shape as needed\n",
    "model.add(MaxPooling1D(pool_size=2))\n",
    "model.add(LSTM(64))\n",
    "model.add(Dense(1, activation='sigmoid'))  # Adjust output layer as needed\n",
    "\n",
    "# Compile the model (optional)\n",
    "model.compile(optimizer='adam', loss='binary_crossentropy', metrics=['accuracy'])\n",
    "\n",
    "# Print model summary (optional)\n",
    "model.summary()"
   ]
  },
  {
   "cell_type": "code",
   "execution_count": 2,
   "id": "f9f97689",
   "metadata": {},
   "outputs": [
    {
     "name": "stderr",
     "output_type": "stream",
     "text": [
      "C:\\Users\\Admin\\anaconda3\\lib\\site-packages\\IPython\\core\\interactiveshell.py:3165: DtypeWarning: Columns (48,56) have mixed types.Specify dtype option on import or set low_memory=False.\n",
      "  has_raised = await self.run_ast_nodes(code_ast.body, cell_name,\n"
     ]
    },
    {
     "data": {
      "text/html": [
       "<div>\n",
       "<style scoped>\n",
       "    .dataframe tbody tr th:only-of-type {\n",
       "        vertical-align: middle;\n",
       "    }\n",
       "\n",
       "    .dataframe tbody tr th {\n",
       "        vertical-align: top;\n",
       "    }\n",
       "\n",
       "    .dataframe thead th {\n",
       "        text-align: right;\n",
       "    }\n",
       "</style>\n",
       "<table border=\"1\" class=\"dataframe\">\n",
       "  <thead>\n",
       "    <tr style=\"text-align: right;\">\n",
       "      <th></th>\n",
       "      <th>Unnamed: 0</th>\n",
       "      <th>Flow ID</th>\n",
       "      <th>Source IP</th>\n",
       "      <th>Source Port</th>\n",
       "      <th>Destination IP</th>\n",
       "      <th>Destination Port</th>\n",
       "      <th>Protocol</th>\n",
       "      <th>Timestamp</th>\n",
       "      <th>Flow Duration</th>\n",
       "      <th>Total Fwd Packets</th>\n",
       "      <th>...</th>\n",
       "      <th>min_seg_size_forward</th>\n",
       "      <th>Active Mean</th>\n",
       "      <th>Active Std</th>\n",
       "      <th>Active Max</th>\n",
       "      <th>Active Min</th>\n",
       "      <th>Idle Mean</th>\n",
       "      <th>Idle Std</th>\n",
       "      <th>Idle Max</th>\n",
       "      <th>Idle Min</th>\n",
       "      <th>Class</th>\n",
       "    </tr>\n",
       "  </thead>\n",
       "  <tbody>\n",
       "    <tr>\n",
       "      <th>0</th>\n",
       "      <td>0</td>\n",
       "      <td>10.42.0.211-52.6.25.230-34451-443-6</td>\n",
       "      <td>10.42.0.211</td>\n",
       "      <td>34451.0</td>\n",
       "      <td>52.6.25.230</td>\n",
       "      <td>443.0</td>\n",
       "      <td>6.0</td>\n",
       "      <td>04/08/2017 05:12:36</td>\n",
       "      <td>12140931.0</td>\n",
       "      <td>9.0</td>\n",
       "      <td>...</td>\n",
       "      <td>32.0</td>\n",
       "      <td>0.0</td>\n",
       "      <td>0.0</td>\n",
       "      <td>0.0</td>\n",
       "      <td>0.0</td>\n",
       "      <td>0.0</td>\n",
       "      <td>0.0</td>\n",
       "      <td>0.0</td>\n",
       "      <td>0.0</td>\n",
       "      <td>Benign</td>\n",
       "    </tr>\n",
       "    <tr>\n",
       "      <th>1</th>\n",
       "      <td>1</td>\n",
       "      <td>172.217.3.99-10.42.0.151-443-53892-6</td>\n",
       "      <td>10.42.0.151</td>\n",
       "      <td>53892.0</td>\n",
       "      <td>172.217.3.99</td>\n",
       "      <td>443.0</td>\n",
       "      <td>6.0</td>\n",
       "      <td>04/08/2017 07:55:51</td>\n",
       "      <td>418882.0</td>\n",
       "      <td>102.0</td>\n",
       "      <td>...</td>\n",
       "      <td>32.0</td>\n",
       "      <td>0.0</td>\n",
       "      <td>0.0</td>\n",
       "      <td>0.0</td>\n",
       "      <td>0.0</td>\n",
       "      <td>0.0</td>\n",
       "      <td>0.0</td>\n",
       "      <td>0.0</td>\n",
       "      <td>0.0</td>\n",
       "      <td>Benign</td>\n",
       "    </tr>\n",
       "    <tr>\n",
       "      <th>2</th>\n",
       "      <td>2</td>\n",
       "      <td>172.217.3.98-10.42.0.151-443-50750-6</td>\n",
       "      <td>172.217.3.98</td>\n",
       "      <td>443.0</td>\n",
       "      <td>10.42.0.151</td>\n",
       "      <td>50750.0</td>\n",
       "      <td>6.0</td>\n",
       "      <td>04/08/2017 08:48:19</td>\n",
       "      <td>45.0</td>\n",
       "      <td>2.0</td>\n",
       "      <td>...</td>\n",
       "      <td>32.0</td>\n",
       "      <td>0.0</td>\n",
       "      <td>0.0</td>\n",
       "      <td>0.0</td>\n",
       "      <td>0.0</td>\n",
       "      <td>0.0</td>\n",
       "      <td>0.0</td>\n",
       "      <td>0.0</td>\n",
       "      <td>0.0</td>\n",
       "      <td>Benign</td>\n",
       "    </tr>\n",
       "    <tr>\n",
       "      <th>3</th>\n",
       "      <td>3</td>\n",
       "      <td>10.42.0.211-10.42.0.1-23025-53-17</td>\n",
       "      <td>10.42.0.211</td>\n",
       "      <td>23025.0</td>\n",
       "      <td>10.42.0.1</td>\n",
       "      <td>53.0</td>\n",
       "      <td>17.0</td>\n",
       "      <td>04/08/2017 05:54:10</td>\n",
       "      <td>541699.0</td>\n",
       "      <td>1.0</td>\n",
       "      <td>...</td>\n",
       "      <td>32.0</td>\n",
       "      <td>0.0</td>\n",
       "      <td>0.0</td>\n",
       "      <td>0.0</td>\n",
       "      <td>0.0</td>\n",
       "      <td>0.0</td>\n",
       "      <td>0.0</td>\n",
       "      <td>0.0</td>\n",
       "      <td>0.0</td>\n",
       "      <td>Benign</td>\n",
       "    </tr>\n",
       "    <tr>\n",
       "      <th>4</th>\n",
       "      <td>4</td>\n",
       "      <td>10.42.0.211-123.129.244.226-52602-443-6</td>\n",
       "      <td>10.42.0.211</td>\n",
       "      <td>52602.0</td>\n",
       "      <td>123.129.244.226</td>\n",
       "      <td>443.0</td>\n",
       "      <td>6.0</td>\n",
       "      <td>04/08/2017 08:44:25</td>\n",
       "      <td>7310795.0</td>\n",
       "      <td>3.0</td>\n",
       "      <td>...</td>\n",
       "      <td>20.0</td>\n",
       "      <td>0.0</td>\n",
       "      <td>0.0</td>\n",
       "      <td>0.0</td>\n",
       "      <td>0.0</td>\n",
       "      <td>0.0</td>\n",
       "      <td>0.0</td>\n",
       "      <td>0.0</td>\n",
       "      <td>0.0</td>\n",
       "      <td>Benign</td>\n",
       "    </tr>\n",
       "  </tbody>\n",
       "</table>\n",
       "<p>5 rows × 86 columns</p>\n",
       "</div>"
      ],
      "text/plain": [
       "   Unnamed: 0                                  Flow ID     Source IP  \\\n",
       "0           0      10.42.0.211-52.6.25.230-34451-443-6   10.42.0.211   \n",
       "1           1     172.217.3.99-10.42.0.151-443-53892-6   10.42.0.151   \n",
       "2           2     172.217.3.98-10.42.0.151-443-50750-6  172.217.3.98   \n",
       "3           3        10.42.0.211-10.42.0.1-23025-53-17   10.42.0.211   \n",
       "4           4  10.42.0.211-123.129.244.226-52602-443-6   10.42.0.211   \n",
       "\n",
       "    Source Port   Destination IP   Destination Port   Protocol  \\\n",
       "0       34451.0      52.6.25.230              443.0        6.0   \n",
       "1       53892.0     172.217.3.99              443.0        6.0   \n",
       "2         443.0      10.42.0.151            50750.0        6.0   \n",
       "3       23025.0        10.42.0.1               53.0       17.0   \n",
       "4       52602.0  123.129.244.226              443.0        6.0   \n",
       "\n",
       "             Timestamp   Flow Duration   Total Fwd Packets  ...  \\\n",
       "0  04/08/2017 05:12:36      12140931.0                 9.0  ...   \n",
       "1  04/08/2017 07:55:51        418882.0               102.0  ...   \n",
       "2  04/08/2017 08:48:19            45.0                 2.0  ...   \n",
       "3  04/08/2017 05:54:10        541699.0                 1.0  ...   \n",
       "4  04/08/2017 08:44:25       7310795.0                 3.0  ...   \n",
       "\n",
       "    min_seg_size_forward  Active Mean   Active Std   Active Max   Active Min  \\\n",
       "0                   32.0          0.0          0.0          0.0          0.0   \n",
       "1                   32.0          0.0          0.0          0.0          0.0   \n",
       "2                   32.0          0.0          0.0          0.0          0.0   \n",
       "3                   32.0          0.0          0.0          0.0          0.0   \n",
       "4                   20.0          0.0          0.0          0.0          0.0   \n",
       "\n",
       "   Idle Mean   Idle Std   Idle Max   Idle Min   Class  \n",
       "0        0.0        0.0        0.0        0.0  Benign  \n",
       "1        0.0        0.0        0.0        0.0  Benign  \n",
       "2        0.0        0.0        0.0        0.0  Benign  \n",
       "3        0.0        0.0        0.0        0.0  Benign  \n",
       "4        0.0        0.0        0.0        0.0  Benign  \n",
       "\n",
       "[5 rows x 86 columns]"
      ]
     },
     "execution_count": 2,
     "metadata": {},
     "output_type": "execute_result"
    }
   ],
   "source": [
    "df_dk=pd.read_csv('Keylogger_Detection.csv')\n",
    "df_dk.head(5)"
   ]
  },
  {
   "cell_type": "code",
   "execution_count": 3,
   "id": "cf3b83c8",
   "metadata": {},
   "outputs": [
    {
     "data": {
      "text/plain": [
       "Unnamed: 0           int64\n",
       "Flow ID             object\n",
       " Source IP          object\n",
       " Source Port       float64\n",
       " Destination IP     object\n",
       "                    ...   \n",
       "Idle Mean          float64\n",
       " Idle Std          float64\n",
       " Idle Max          float64\n",
       " Idle Min          float64\n",
       "Class               object\n",
       "Length: 86, dtype: object"
      ]
     },
     "execution_count": 3,
     "metadata": {},
     "output_type": "execute_result"
    }
   ],
   "source": [
    "df_dk.dtypes"
   ]
  },
  {
   "cell_type": "code",
   "execution_count": 4,
   "id": "b30d283f",
   "metadata": {},
   "outputs": [],
   "source": [
    "Class_df = df_dk[\"Class\"]\n",
    "df_num = df_dk.select_dtypes(include=[np.number])\n",
    "df_num = df_num.join(Class_df)"
   ]
  },
  {
   "cell_type": "code",
   "execution_count": 5,
   "id": "633af558",
   "metadata": {},
   "outputs": [],
   "source": [
    "df_num.drop('Unnamed: 0', axis=1, inplace=True)"
   ]
  },
  {
   "cell_type": "code",
   "execution_count": 6,
   "id": "d3797b06",
   "metadata": {},
   "outputs": [
    {
     "name": "stdout",
     "output_type": "stream",
     "text": [
      "879\n"
     ]
    }
   ],
   "source": [
    "print(df_num.isna().sum().sum())\n",
    "df_num=df_num.dropna()"
   ]
  },
  {
   "cell_type": "code",
   "execution_count": 7,
   "id": "3979a6c3",
   "metadata": {},
   "outputs": [
    {
     "data": {
      "text/html": [
       "<div>\n",
       "<style scoped>\n",
       "    .dataframe tbody tr th:only-of-type {\n",
       "        vertical-align: middle;\n",
       "    }\n",
       "\n",
       "    .dataframe tbody tr th {\n",
       "        vertical-align: top;\n",
       "    }\n",
       "\n",
       "    .dataframe thead th {\n",
       "        text-align: right;\n",
       "    }\n",
       "</style>\n",
       "<table border=\"1\" class=\"dataframe\">\n",
       "  <thead>\n",
       "    <tr style=\"text-align: right;\">\n",
       "      <th></th>\n",
       "      <th>Source Port</th>\n",
       "      <th>Destination Port</th>\n",
       "      <th>Protocol</th>\n",
       "      <th>Flow Duration</th>\n",
       "      <th>Total Fwd Packets</th>\n",
       "      <th>Total Backward Packets</th>\n",
       "      <th>Total Length of Fwd Packets</th>\n",
       "      <th>Total Length of Bwd Packets</th>\n",
       "      <th>Fwd Packet Length Max</th>\n",
       "      <th>Fwd Packet Length Min</th>\n",
       "      <th>...</th>\n",
       "      <th>min_seg_size_forward</th>\n",
       "      <th>Active Mean</th>\n",
       "      <th>Active Std</th>\n",
       "      <th>Active Max</th>\n",
       "      <th>Active Min</th>\n",
       "      <th>Idle Mean</th>\n",
       "      <th>Idle Std</th>\n",
       "      <th>Idle Max</th>\n",
       "      <th>Idle Min</th>\n",
       "      <th>label</th>\n",
       "    </tr>\n",
       "  </thead>\n",
       "  <tbody>\n",
       "    <tr>\n",
       "      <th>307882</th>\n",
       "      <td>60744.0</td>\n",
       "      <td>53.0</td>\n",
       "      <td>17.0</td>\n",
       "      <td>51221.0</td>\n",
       "      <td>1.0</td>\n",
       "      <td>1.0</td>\n",
       "      <td>30.0</td>\n",
       "      <td>75.0</td>\n",
       "      <td>30.0</td>\n",
       "      <td>30.0</td>\n",
       "      <td>...</td>\n",
       "      <td>32.0</td>\n",
       "      <td>0.0</td>\n",
       "      <td>0.0</td>\n",
       "      <td>0.0</td>\n",
       "      <td>0.0</td>\n",
       "      <td>0.0</td>\n",
       "      <td>0.0</td>\n",
       "      <td>0.0</td>\n",
       "      <td>0.0</td>\n",
       "      <td>0</td>\n",
       "    </tr>\n",
       "    <tr>\n",
       "      <th>404260</th>\n",
       "      <td>47104.0</td>\n",
       "      <td>80.0</td>\n",
       "      <td>6.0</td>\n",
       "      <td>5066630.0</td>\n",
       "      <td>2.0</td>\n",
       "      <td>2.0</td>\n",
       "      <td>0.0</td>\n",
       "      <td>0.0</td>\n",
       "      <td>0.0</td>\n",
       "      <td>0.0</td>\n",
       "      <td>...</td>\n",
       "      <td>32.0</td>\n",
       "      <td>0.0</td>\n",
       "      <td>0.0</td>\n",
       "      <td>0.0</td>\n",
       "      <td>0.0</td>\n",
       "      <td>0.0</td>\n",
       "      <td>0.0</td>\n",
       "      <td>0.0</td>\n",
       "      <td>0.0</td>\n",
       "      <td>1</td>\n",
       "    </tr>\n",
       "    <tr>\n",
       "      <th>86495</th>\n",
       "      <td>36612.0</td>\n",
       "      <td>443.0</td>\n",
       "      <td>6.0</td>\n",
       "      <td>43.0</td>\n",
       "      <td>1.0</td>\n",
       "      <td>1.0</td>\n",
       "      <td>31.0</td>\n",
       "      <td>0.0</td>\n",
       "      <td>31.0</td>\n",
       "      <td>31.0</td>\n",
       "      <td>...</td>\n",
       "      <td>32.0</td>\n",
       "      <td>0.0</td>\n",
       "      <td>0.0</td>\n",
       "      <td>0.0</td>\n",
       "      <td>0.0</td>\n",
       "      <td>0.0</td>\n",
       "      <td>0.0</td>\n",
       "      <td>0.0</td>\n",
       "      <td>0.0</td>\n",
       "      <td>0</td>\n",
       "    </tr>\n",
       "    <tr>\n",
       "      <th>335445</th>\n",
       "      <td>53356.0</td>\n",
       "      <td>80.0</td>\n",
       "      <td>6.0</td>\n",
       "      <td>17748971.0</td>\n",
       "      <td>3.0</td>\n",
       "      <td>1.0</td>\n",
       "      <td>0.0</td>\n",
       "      <td>0.0</td>\n",
       "      <td>0.0</td>\n",
       "      <td>0.0</td>\n",
       "      <td>...</td>\n",
       "      <td>32.0</td>\n",
       "      <td>0.0</td>\n",
       "      <td>0.0</td>\n",
       "      <td>0.0</td>\n",
       "      <td>0.0</td>\n",
       "      <td>0.0</td>\n",
       "      <td>0.0</td>\n",
       "      <td>0.0</td>\n",
       "      <td>0.0</td>\n",
       "      <td>1</td>\n",
       "    </tr>\n",
       "    <tr>\n",
       "      <th>119274</th>\n",
       "      <td>4164.0</td>\n",
       "      <td>53.0</td>\n",
       "      <td>17.0</td>\n",
       "      <td>30657.0</td>\n",
       "      <td>1.0</td>\n",
       "      <td>1.0</td>\n",
       "      <td>36.0</td>\n",
       "      <td>218.0</td>\n",
       "      <td>36.0</td>\n",
       "      <td>36.0</td>\n",
       "      <td>...</td>\n",
       "      <td>32.0</td>\n",
       "      <td>0.0</td>\n",
       "      <td>0.0</td>\n",
       "      <td>0.0</td>\n",
       "      <td>0.0</td>\n",
       "      <td>0.0</td>\n",
       "      <td>0.0</td>\n",
       "      <td>0.0</td>\n",
       "      <td>0.0</td>\n",
       "      <td>1</td>\n",
       "    </tr>\n",
       "  </tbody>\n",
       "</table>\n",
       "<p>5 rows × 79 columns</p>\n",
       "</div>"
      ],
      "text/plain": [
       "         Source Port   Destination Port   Protocol   Flow Duration  \\\n",
       "307882       60744.0               53.0       17.0         51221.0   \n",
       "404260       47104.0               80.0        6.0       5066630.0   \n",
       "86495        36612.0              443.0        6.0            43.0   \n",
       "335445       53356.0               80.0        6.0      17748971.0   \n",
       "119274        4164.0               53.0       17.0         30657.0   \n",
       "\n",
       "         Total Fwd Packets   Total Backward Packets  \\\n",
       "307882                 1.0                      1.0   \n",
       "404260                 2.0                      2.0   \n",
       "86495                  1.0                      1.0   \n",
       "335445                 3.0                      1.0   \n",
       "119274                 1.0                      1.0   \n",
       "\n",
       "        Total Length of Fwd Packets   Total Length of Bwd Packets  \\\n",
       "307882                         30.0                          75.0   \n",
       "404260                          0.0                           0.0   \n",
       "86495                          31.0                           0.0   \n",
       "335445                          0.0                           0.0   \n",
       "119274                         36.0                         218.0   \n",
       "\n",
       "         Fwd Packet Length Max   Fwd Packet Length Min  ...  \\\n",
       "307882                    30.0                    30.0  ...   \n",
       "404260                     0.0                     0.0  ...   \n",
       "86495                     31.0                    31.0  ...   \n",
       "335445                     0.0                     0.0  ...   \n",
       "119274                    36.0                    36.0  ...   \n",
       "\n",
       "         min_seg_size_forward  Active Mean   Active Std   Active Max  \\\n",
       "307882                   32.0          0.0          0.0          0.0   \n",
       "404260                   32.0          0.0          0.0          0.0   \n",
       "86495                    32.0          0.0          0.0          0.0   \n",
       "335445                   32.0          0.0          0.0          0.0   \n",
       "119274                   32.0          0.0          0.0          0.0   \n",
       "\n",
       "         Active Min  Idle Mean   Idle Std   Idle Max   Idle Min  label  \n",
       "307882          0.0        0.0        0.0        0.0        0.0      0  \n",
       "404260          0.0        0.0        0.0        0.0        0.0      1  \n",
       "86495           0.0        0.0        0.0        0.0        0.0      0  \n",
       "335445          0.0        0.0        0.0        0.0        0.0      1  \n",
       "119274          0.0        0.0        0.0        0.0        0.0      1  \n",
       "\n",
       "[5 rows x 79 columns]"
      ]
     },
     "execution_count": 7,
     "metadata": {},
     "output_type": "execute_result"
    }
   ],
   "source": [
    "df_num[\"label\"]=df_num[\"Class\"]\n",
    "df_num.loc[df_num.label == \"Benign\", 'label'] = 0\n",
    "df_num.loc[df_num.label == \"Keylogger\", 'label'] = 1\n",
    "df_num.drop('Class', axis=1, inplace=True)\n",
    "df_num.sample(5)"
   ]
  },
  {
   "cell_type": "code",
   "execution_count": 8,
   "id": "3aac26bf",
   "metadata": {},
   "outputs": [],
   "source": [
    "df_num=df_num.sample(n=200000)"
   ]
  },
  {
   "cell_type": "code",
   "execution_count": 9,
   "id": "0eaaf321",
   "metadata": {},
   "outputs": [
    {
     "data": {
      "text/plain": [
       "label\n",
       "0    118233\n",
       "1     81767\n",
       "dtype: int64"
      ]
     },
     "execution_count": 9,
     "metadata": {},
     "output_type": "execute_result"
    }
   ],
   "source": [
    "df_num.groupby('label').size()"
   ]
  },
  {
   "cell_type": "code",
   "execution_count": 10,
   "id": "2a2b87dc",
   "metadata": {},
   "outputs": [],
   "source": [
    "for col in (df_num.iloc[:,:-1].columns):\n",
    "    if(df_num[col].min()==df_num[col].max()):\n",
    "            df_num.drop(col, axis=1, inplace=True)"
   ]
  },
  {
   "cell_type": "code",
   "execution_count": 11,
   "id": "626ec072",
   "metadata": {},
   "outputs": [
    {
     "data": {
      "text/html": [
       "<div>\n",
       "<style scoped>\n",
       "    .dataframe tbody tr th:only-of-type {\n",
       "        vertical-align: middle;\n",
       "    }\n",
       "\n",
       "    .dataframe tbody tr th {\n",
       "        vertical-align: top;\n",
       "    }\n",
       "\n",
       "    .dataframe thead th {\n",
       "        text-align: right;\n",
       "    }\n",
       "</style>\n",
       "<table border=\"1\" class=\"dataframe\">\n",
       "  <thead>\n",
       "    <tr style=\"text-align: right;\">\n",
       "      <th></th>\n",
       "      <th>Source Port</th>\n",
       "      <th>Destination Port</th>\n",
       "      <th>Protocol</th>\n",
       "      <th>Flow Duration</th>\n",
       "      <th>Total Fwd Packets</th>\n",
       "      <th>Total Backward Packets</th>\n",
       "      <th>Total Length of Fwd Packets</th>\n",
       "      <th>Total Length of Bwd Packets</th>\n",
       "      <th>Fwd Packet Length Max</th>\n",
       "      <th>Fwd Packet Length Min</th>\n",
       "      <th>...</th>\n",
       "      <th>min_seg_size_forward</th>\n",
       "      <th>Active Mean</th>\n",
       "      <th>Active Std</th>\n",
       "      <th>Active Max</th>\n",
       "      <th>Active Min</th>\n",
       "      <th>Idle Mean</th>\n",
       "      <th>Idle Std</th>\n",
       "      <th>Idle Max</th>\n",
       "      <th>Idle Min</th>\n",
       "      <th>label</th>\n",
       "    </tr>\n",
       "  </thead>\n",
       "  <tbody>\n",
       "    <tr>\n",
       "      <th>43321</th>\n",
       "      <td>129.963148</td>\n",
       "      <td>0.206563</td>\n",
       "      <td>255.0</td>\n",
       "      <td>2.256272</td>\n",
       "      <td>0.000000</td>\n",
       "      <td>0.017123</td>\n",
       "      <td>0.001067</td>\n",
       "      <td>0.000937</td>\n",
       "      <td>5.763699</td>\n",
       "      <td>5.763699</td>\n",
       "      <td>...</td>\n",
       "      <td>254.999989</td>\n",
       "      <td>0.000000</td>\n",
       "      <td>0.0</td>\n",
       "      <td>0.000000</td>\n",
       "      <td>0.000000</td>\n",
       "      <td>0.000000</td>\n",
       "      <td>0.0</td>\n",
       "      <td>0.000000</td>\n",
       "      <td>0.000000</td>\n",
       "      <td>0</td>\n",
       "    </tr>\n",
       "    <tr>\n",
       "      <th>484954</th>\n",
       "      <td>231.458066</td>\n",
       "      <td>1.726554</td>\n",
       "      <td>90.0</td>\n",
       "      <td>0.467230</td>\n",
       "      <td>0.357198</td>\n",
       "      <td>0.154110</td>\n",
       "      <td>0.032875</td>\n",
       "      <td>0.062263</td>\n",
       "      <td>118.417808</td>\n",
       "      <td>0.000000</td>\n",
       "      <td>...</td>\n",
       "      <td>254.999989</td>\n",
       "      <td>0.000000</td>\n",
       "      <td>0.0</td>\n",
       "      <td>0.000000</td>\n",
       "      <td>0.000000</td>\n",
       "      <td>0.000000</td>\n",
       "      <td>0.0</td>\n",
       "      <td>0.000000</td>\n",
       "      <td>0.000000</td>\n",
       "      <td>1</td>\n",
       "    </tr>\n",
       "    <tr>\n",
       "      <th>31363</th>\n",
       "      <td>1.723814</td>\n",
       "      <td>171.860366</td>\n",
       "      <td>90.0</td>\n",
       "      <td>0.016501</td>\n",
       "      <td>0.000000</td>\n",
       "      <td>0.017123</td>\n",
       "      <td>0.000000</td>\n",
       "      <td>0.000000</td>\n",
       "      <td>0.000000</td>\n",
       "      <td>0.000000</td>\n",
       "      <td>...</td>\n",
       "      <td>254.999989</td>\n",
       "      <td>0.000000</td>\n",
       "      <td>0.0</td>\n",
       "      <td>0.000000</td>\n",
       "      <td>0.000000</td>\n",
       "      <td>0.000000</td>\n",
       "      <td>0.0</td>\n",
       "      <td>0.000000</td>\n",
       "      <td>0.000000</td>\n",
       "      <td>1</td>\n",
       "    </tr>\n",
       "    <tr>\n",
       "      <th>406070</th>\n",
       "      <td>178.319447</td>\n",
       "      <td>1.726554</td>\n",
       "      <td>90.0</td>\n",
       "      <td>0.034114</td>\n",
       "      <td>0.119066</td>\n",
       "      <td>0.000000</td>\n",
       "      <td>0.001972</td>\n",
       "      <td>0.000000</td>\n",
       "      <td>6.636986</td>\n",
       "      <td>0.000000</td>\n",
       "      <td>...</td>\n",
       "      <td>254.999989</td>\n",
       "      <td>0.000000</td>\n",
       "      <td>0.0</td>\n",
       "      <td>0.000000</td>\n",
       "      <td>0.000000</td>\n",
       "      <td>0.000000</td>\n",
       "      <td>0.0</td>\n",
       "      <td>0.000000</td>\n",
       "      <td>0.000000</td>\n",
       "      <td>0</td>\n",
       "    </tr>\n",
       "    <tr>\n",
       "      <th>485462</th>\n",
       "      <td>147.960081</td>\n",
       "      <td>1.726554</td>\n",
       "      <td>255.0</td>\n",
       "      <td>32.223091</td>\n",
       "      <td>0.476265</td>\n",
       "      <td>0.222603</td>\n",
       "      <td>0.156068</td>\n",
       "      <td>0.036760</td>\n",
       "      <td>235.787671</td>\n",
       "      <td>4.017123</td>\n",
       "      <td>...</td>\n",
       "      <td>254.999989</td>\n",
       "      <td>1.233136</td>\n",
       "      <td>0.0</td>\n",
       "      <td>0.728683</td>\n",
       "      <td>1.233136</td>\n",
       "      <td>31.679916</td>\n",
       "      <td>0.0</td>\n",
       "      <td>31.679916</td>\n",
       "      <td>31.679916</td>\n",
       "      <td>0</td>\n",
       "    </tr>\n",
       "  </tbody>\n",
       "</table>\n",
       "<p>5 rows × 68 columns</p>\n",
       "</div>"
      ],
      "text/plain": [
       "         Source Port   Destination Port   Protocol   Flow Duration  \\\n",
       "43321     129.963148           0.206563      255.0        2.256272   \n",
       "484954    231.458066           1.726554       90.0        0.467230   \n",
       "31363       1.723814         171.860366       90.0        0.016501   \n",
       "406070    178.319447           1.726554       90.0        0.034114   \n",
       "485462    147.960081           1.726554      255.0       32.223091   \n",
       "\n",
       "         Total Fwd Packets   Total Backward Packets  \\\n",
       "43321             0.000000                 0.017123   \n",
       "484954            0.357198                 0.154110   \n",
       "31363             0.000000                 0.017123   \n",
       "406070            0.119066                 0.000000   \n",
       "485462            0.476265                 0.222603   \n",
       "\n",
       "        Total Length of Fwd Packets   Total Length of Bwd Packets  \\\n",
       "43321                      0.001067                      0.000937   \n",
       "484954                     0.032875                      0.062263   \n",
       "31363                      0.000000                      0.000000   \n",
       "406070                     0.001972                      0.000000   \n",
       "485462                     0.156068                      0.036760   \n",
       "\n",
       "         Fwd Packet Length Max   Fwd Packet Length Min  ...  \\\n",
       "43321                 5.763699                5.763699  ...   \n",
       "484954              118.417808                0.000000  ...   \n",
       "31363                 0.000000                0.000000  ...   \n",
       "406070                6.636986                0.000000  ...   \n",
       "485462              235.787671                4.017123  ...   \n",
       "\n",
       "         min_seg_size_forward  Active Mean   Active Std   Active Max  \\\n",
       "43321              254.999989     0.000000          0.0     0.000000   \n",
       "484954             254.999989     0.000000          0.0     0.000000   \n",
       "31363              254.999989     0.000000          0.0     0.000000   \n",
       "406070             254.999989     0.000000          0.0     0.000000   \n",
       "485462             254.999989     1.233136          0.0     0.728683   \n",
       "\n",
       "         Active Min  Idle Mean   Idle Std   Idle Max   Idle Min  label  \n",
       "43321      0.000000   0.000000        0.0   0.000000   0.000000      0  \n",
       "484954     0.000000   0.000000        0.0   0.000000   0.000000      1  \n",
       "31363      0.000000   0.000000        0.0   0.000000   0.000000      1  \n",
       "406070     0.000000   0.000000        0.0   0.000000   0.000000      0  \n",
       "485462     1.233136  31.679916        0.0  31.679916  31.679916      0  \n",
       "\n",
       "[5 rows x 68 columns]"
      ]
     },
     "execution_count": 11,
     "metadata": {},
     "output_type": "execute_result"
    }
   ],
   "source": [
    "# Normalization OR Standardization\n",
    "def standardize(df,col):\n",
    "    #df[col]= (df[col]-df[col].mean())/(df[col].std()) # Standardization\n",
    "    df[col]= 255*(df[col]-df[col].min())/(df[col].max()-df[col].min()) #Normalization\n",
    "\n",
    "for i in (df_num.iloc[:,:-1].columns):\n",
    "    standardize (df_num,i)\n",
    "\n",
    "df_num.head()"
   ]
  },
  {
   "cell_type": "code",
   "execution_count": 12,
   "id": "d65e0021",
   "metadata": {},
   "outputs": [
    {
     "data": {
      "text/plain": [
       "(200000, 1025)"
      ]
     },
     "execution_count": 12,
     "metadata": {},
     "output_type": "execute_result"
    }
   ],
   "source": [
    "for i in range(957):\n",
    "    col=\"A\"+str(i)\n",
    "    df_num[col]=0\n",
    "\n",
    "df_num.shape\n"
   ]
  },
  {
   "cell_type": "code",
   "execution_count": 13,
   "id": "46972c75",
   "metadata": {},
   "outputs": [],
   "source": [
    "target=['label']\n",
    "features = [c for c in df_num.columns if c!=\"label\"]"
   ]
  },
  {
   "cell_type": "code",
   "execution_count": 14,
   "id": "f42286b3",
   "metadata": {},
   "outputs": [
    {
     "name": "stdout",
     "output_type": "stream",
     "text": [
      "<class 'numpy.ndarray'>\n"
     ]
    },
    {
     "data": {
      "image/png": "[encoded data removed]",
      "text/plain": [
       "<Figure size 432x288 with 1 Axes>"
      ]
     },
     "metadata": {
      "needs_background": "light"
     },
     "output_type": "display_data"
    }
   ],
   "source": [
    "row_1=df_num[features].iloc[0].to_numpy()\n",
    "row_1.shape\n",
    "row_2=row_1.reshape(32, 32)\n",
    "row_2=row_2.astype(int)\n",
    "print(type(row_2))\n",
    "from matplotlib import pyplot as plt\n",
    "plt.imshow(row_2,cmap='gray')\n",
    "plt.show()"
   ]
  },
  {
   "cell_type": "code",
   "execution_count": 15,
   "id": "46e36fc5",
   "metadata": {},
   "outputs": [
    {
     "data": {
      "text/plain": [
       "((200000, 1024), (200000, 1))"
      ]
     },
     "execution_count": 15,
     "metadata": {},
     "output_type": "execute_result"
    }
   ],
   "source": [
    "X = df_num[features].values # Features\n",
    "y = df_num[target].values # Target\n",
    "\n",
    "X=X.astype(np.float32)\n",
    "y=y.astype(np.float32)\n",
    "\n",
    "X.shape,y.shape,"
   ]
  },
  {
   "cell_type": "code",
   "execution_count": 16,
   "id": "0b4529fa",
   "metadata": {},
   "outputs": [],
   "source": [
    "from sklearn.model_selection import train_test_split\n",
    "X_train, X_test, y_train, y_test = train_test_split(X, y, test_size=0.2, random_state=12)"
   ]
  },
  {
   "cell_type": "code",
   "execution_count": 17,
   "id": "27ec55e2",
   "metadata": {},
   "outputs": [
    {
     "data": {
      "text/plain": [
       "((160000, 1024), (40000, 1024), (160000, 1), (40000, 1))"
      ]
     },
     "execution_count": 17,
     "metadata": {},
     "output_type": "execute_result"
    }
   ],
   "source": [
    "X_train.shape,X_test.shape,y_train.shape,y_test.shape"
   ]
  },
  {
   "cell_type": "code",
   "execution_count": 18,
   "id": "3e1baa0d",
   "metadata": {},
   "outputs": [
    {
     "name": "stdout",
     "output_type": "stream",
     "text": [
      "(160000, 32, 32, 1)\n",
      "(40000, 32, 32, 1)\n"
     ]
    }
   ],
   "source": [
    "X_train_cnn = np.reshape(X_train, (X_train.shape[0], 32,32,1))\n",
    "X_test_cnn = np.reshape(X_test, (X_test.shape[0], 32,32,1))\n",
    "print(X_train_cnn.shape)\n",
    "print(X_test_cnn.shape)\n"
   ]
  },
  {
   "cell_type": "code",
   "execution_count": 19,
   "id": "0a51c43c",
   "metadata": {},
   "outputs": [],
   "source": [
    "learning_rate=0.0001\n",
    "batch_size=1024\n",
    "epochs = 50\n",
    "\n",
    "model_save = ModelCheckpoint('./Keylogging.h5', \n",
    "                             save_best_only = True, \n",
    "                             save_weights_only = True,\n",
    "                             monitor = 'val_loss', \n",
    "                             mode = 'min', verbose = 1)\n",
    "early_stop = EarlyStopping(monitor = 'val_loss', min_delta = 0.0001, \n",
    "                           patience = 10, mode = 'min', verbose = 1,\n",
    "                           restore_best_weights = True)\n",
    "reduce_lr = ReduceLROnPlateau(monitor = 'val_loss', factor = 0.75, \n",
    "                              patience = 10, min_delta = 0.0001, \n",
    "                              mode = 'min', verbose = 1)"
   ]
  },
  {
   "cell_type": "code",
   "execution_count": 20,
   "id": "2f62d8cb",
   "metadata": {},
   "outputs": [
    {
     "name": "stdout",
     "output_type": "stream",
     "text": [
      "Model: \"model\"\n",
      "_________________________________________________________________\n",
      " Layer (type)                Output Shape              Param #   \n",
      "=================================================================\n",
      " input_1 (InputLayer)        [(None, 32, 32, 1)]       0         \n",
      "                                                                 \n",
      " conv2d (Conv2D)             (None, 32, 32, 3)         6         \n",
      "                                                                 \n",
      " efficientnetb0 (Functional  (None, 1280)              4049571   \n",
      " )                                                               \n",
      "                                                                 \n",
      " flatten (Flatten)           (None, 1280)              0         \n",
      "                                                                 \n",
      " dense_1 (Dense)             (None, 1)                 1281      \n",
      "                                                                 \n",
      "=================================================================\n",
      "Total params: 4050858 (15.45 MB)\n",
      "Trainable params: 4008835 (15.29 MB)\n",
      "Non-trainable params: 42023 (164.16 KB)\n",
      "_________________________________________________________________\n"
     ]
    }
   ],
   "source": [
    "import tensorflow as tf\n",
    "from tensorflow.keras import layers, models\n",
    "from tensorflow.keras.applications import EfficientNetB0\n",
    "from tensorflow.keras.optimizers import Adam\n",
    "\n",
    "def create_model():\n",
    "    # Define input layer for grayscale images\n",
    "    inputs = layers.Input(shape=(32, 32, 1))  # Grayscale input\n",
    "\n",
    "    # Convert grayscale to RGB if necessary\n",
    "    grayscale_to_rgb = layers.Conv2D(3, kernel_size=(1, 1), activation='linear', padding='same')(inputs)\n",
    "\n",
    "    # Create EfficientNetB0 model without the top classification layer\n",
    "    efficientnet_model = EfficientNetB0(include_top=False, weights='imagenet', pooling='avg')\n",
    "\n",
    "    # Pass the RGB converted input to EfficientNetB0\n",
    "    x = efficientnet_model(grayscale_to_rgb)\n",
    "\n",
    "    # Flatten the output from EfficientNetB0\n",
    "    x = layers.Flatten()(x)\n",
    "\n",
    "    # Output layer for binary classification\n",
    "    outputs = layers.Dense(1, activation='sigmoid')(x)\n",
    "\n",
    "    # Create the model\n",
    "    model = models.Model(inputs=inputs, outputs=outputs)\n",
    "\n",
    "    # Compile the model with Adam optimizer and binary crossentropy loss\n",
    "    optimizer = Adam(learning_rate=0.001)\n",
    "    model.compile(loss='binary_crossentropy', optimizer=optimizer, metrics=['accuracy'])\n",
    "\n",
    "    return model\n",
    "\n",
    "# Create and summarize the model\n",
    "model = create_model()\n",
    "model.summary()"
   ]
  },
  {
   "cell_type": "code",
   "execution_count": 2,
   "id": "d60ed5d0",
   "metadata": {},
   "outputs": [
    {
     "name": "stdout",
     "output_type": "stream",
     "text": [
      "Downloading data from https://storage.googleapis.com/tensorflow/tf-keras-datasets/mnist.npz\n",
      "11490434/11490434 [==============================] - 3s 0us/step\n"
     ]
    }
   ],
   "source": [
    "from sklearn.model_selection import train_test_split\n",
    "from tensorflow.keras.datasets import mnist  # Or any dataset suitable for CNN\n",
    "\n",
    "# Load the data (for example, MNIST dataset)\n",
    "(X, y), (X_val, y_val) = mnist.load_data()  # Loads images and labels for training and validation\n",
    "\n",
    "# Preprocess the data to have the correct shape and range\n",
    "X = X.reshape(-1, 28, 28, 1).astype('float32') / 255  # Reshape and normalize\n",
    "X_val = X_val.reshape(-1, 28, 28, 1).astype('float32') / 255\n",
    "\n",
    "# Split the data into training and testing sets\n",
    "X_train, X_test, y_train, y_test = train_test_split(X, y, test_size=0.2, random_state=42)\n",
    "\n",
    "# Now you can use X_train, y_train, X_test, y_test in your CNN model\n"
   ]
  },
  {
   "cell_type": "code",
   "execution_count": null,
   "id": "30458437",
   "metadata": {},
   "outputs": [],
   "source": [
    "####\n",
    "history = model.fit(X_train_cnn,\n",
    "                    y_train,\n",
    "                    batch_size=batch_size,\n",
    "                    steps_per_epoch=X_train.shape[0] // batch_size,\n",
    "                    epochs=epochs,\n",
    "                    validation_data=(X_test_cnn,y_test),\n",
    "                    callbacks = [model_save, early_stop, reduce_lr],)"
   ]
  },
  {
   "cell_type": "markdown",
   "id": "fdc52398",
   "metadata": {},
   "source": [
    "# "
   ]
  },
  {
   "cell_type": "code",
   "execution_count": null,
   "id": "1cfa2d0e",
   "metadata": {},
   "outputs": [],
   "source": [
    "import tensorflow as tf\n",
    "from tensorflow.keras.models import Sequential\n",
    "from tensorflow.keras.layers import Conv2D, MaxPooling2D, Flatten, Dense, Dropout\n",
    "from tensorflow.keras.callbacks import ModelCheckpoint, EarlyStopping, ReduceLROnPlateau\n",
    "\n",
    "# Define some parameters\n",
    "input_shape = (28, 28, 1)  # Example shape for grayscale 28x28 images (adjust as needed)\n",
    "num_classes = 10  # Number of output classes (for example, digits 0-9 for MNIST)\n",
    "batch_size = 32\n",
    "epochs = 10\n",
    "\n",
    "# Build a simple CNN model\n",
    "model = Sequential([\n",
    "    Conv2D(32, (3, 3), activation='relu', input_shape=input_shape),\n",
    "    MaxPooling2D((2, 2)),\n",
    "    Conv2D(64, (3, 3), activation='relu'),\n",
    "    MaxPooling2D((2, 2)),\n",
    "    Flatten(),\n",
    "    Dense(128, activation='relu'),\n",
    "    Dropout(0.5),\n",
    "    Dense(num_classes, activation='softmax')\n",
    "])\n",
    "\n",
    "# Compile the model\n",
    "model.compile(optimizer='adam', loss='sparse_categorical_crossentropy', metrics=['accuracy'])\n",
    "\n",
    "# Define callbacks\n",
    "model_save = ModelCheckpoint('best_model.h5', save_best_only=True)\n",
    "early_stop = EarlyStopping(patience=3, restore_best_weights=True)\n",
    "reduce_lr = ReduceLROnPlateau(factor=0.5, patience=2, min_lr=0.0001)\n",
    "\n",
    "# Train the model\n",
    "history = model.fit(X_train,  # Replace with X_train_cnn if modified in preprocessing\n",
    "                    y_train,\n",
    "                    batch_size=batch_size,\n",
    "                    steps_per_epoch=len(X_train) // batch_size,\n",
    "                    epochs=epochs,\n",
    "                    validation_data=(X_test, y_test),  # Replace with X_test_cnn if modified\n",
    "                    callbacks=[model_save, early_stop, reduce_lr])\n",
    "\n",
    "# The model training history is stored in the 'history' variable\n"
   ]
  },
  {
   "cell_type": "code",
   "execution_count": 6,
   "id": "771f5451",
   "metadata": {},
   "outputs": [
    {
     "name": "stdout",
     "output_type": "stream",
     "text": [
      "24/24 [==============================] - 1s 53ms/step\n",
      "AUC: 1.000\n"
     ]
    }
   ],
   "source": [
    "from sklearn import metrics\n",
    "\n",
    "# Ensure X_test and y_test are properly defined\n",
    "y_pred = model.predict(X_test, batch_size=512)  # Replace X_test with X_test_cnn if needed\n",
    "\n",
    "# If y_test is categorical, convert y_pred and y_test to a binary format or one-vs-rest structure\n",
    "# For multi-class AUC, use average=\"macro\" or \"weighted\"\n",
    "if y_pred.shape[1] > 1:  # Multi-class case\n",
    "    y_test_bin = tf.keras.utils.to_categorical(y_test, num_classes=y_pred.shape[1])\n",
    "    AUC = metrics.roc_auc_score(y_test_bin, y_pred, average=\"macro\", multi_class=\"ovr\")\n",
    "else:  # Binary case\n",
    "    AUC = metrics.roc_auc_score(y_test, y_pred)\n",
    "\n",
    "print(\"AUC: {:.3f}\".format(AUC))\n"
   ]
  },
  {
   "cell_type": "code",
   "execution_count": null,
   "id": "84a7a044",
   "metadata": {},
   "outputs": [],
   "source": []
  },
  {
   "cell_type": "code",
   "execution_count": 10,
   "id": "47cea18e",
   "metadata": {},
   "outputs": [],
   "source": [
    "import pandas as pd\n",
    "hist_df = pd.DataFrame(history.history)\n",
    "hist_df.to_csv('history.csv')"
   ]
  },
  {
   "cell_type": "code",
   "execution_count": 17,
   "id": "46441523",
   "metadata": {},
   "outputs": [
    {
     "data": {
      "image/png": "[encoded data removed]",
      "text/plain": [
       "<Figure size 1080x360 with 1 Axes>"
      ]
     },
     "metadata": {
      "needs_background": "light"
     },
     "output_type": "display_data"
    }
   ],
   "source": [
    "import matplotlib.pyplot as plt\n",
    "\n",
    "# Plot accuracy over epochs for training and validation as an alternative to AUC\n",
    "plt.figure(figsize=(15, 5))\n",
    "plt.plot(range(history.epoch[-1] + 1), history.history['val_accuracy'], label='val_accuracy')\n",
    "plt.plot(range(history.epoch[-1] + 1), history.history['accuracy'], label='accuracy')\n",
    "plt.title('Model Accuracy')\n",
    "plt.xlabel('Epoch')\n",
    "plt.ylabel('Accuracy')\n",
    "plt.legend()\n",
    "plt.show()\n"
   ]
  },
  {
   "cell_type": "code",
   "execution_count": null,
   "id": "b12591d5",
   "metadata": {},
   "outputs": [],
   "source": [
    "\n"
   ]
  },
  {
   "cell_type": "code",
   "execution_count": 18,
   "id": "22b445e6",
   "metadata": {},
   "outputs": [
    {
     "data": {
      "image/png": "[encoded data removed]",
      "text/plain": [
       "<Figure size 1080x360 with 1 Axes>"
      ]
     },
     "metadata": {
      "needs_background": "light"
     },
     "output_type": "display_data"
    }
   ],
   "source": [
    "\n",
    "\n",
    "plt.figure(figsize=(15,5))\n",
    "plt.plot(range(history.epoch[-1]+1),history.history['val_loss'],label='Val_loss')\n",
    "plt.plot(range(history.epoch[-1]+1),history.history['loss'],label='loss')\n",
    "plt.title('loss'); plt.xlabel('Epoch'); plt.ylabel('loss');plt.legend(); \n",
    "plt.show()"
   ]
  },
  {
   "cell_type": "code",
   "execution_count": 3,
   "id": "369711c0",
   "metadata": {},
   "outputs": [
    {
     "data": {
      "image/png": "[encoded data removed]",
      "text/plain": [
       "<Figure size 432x288 with 1 Axes>"
      ]
     },
     "metadata": {
      "needs_background": "light"
     },
     "output_type": "display_data"
    }
   ],
   "source": [
    "from sklearn.metrics import roc_curve, auc\n",
    "import matplotlib.pyplot as plt\n",
    "\n",
    "def generate_results(y_test, y_score):\n",
    "    # Compute ROC curve and ROC area\n",
    "    fpr, tpr, _ = roc_curve(y_test, y_score)\n",
    "    roc_auc = auc(fpr, tpr)\n",
    "    \n",
    "    # Plot ROC curve\n",
    "    plt.figure()\n",
    "    plt.plot(fpr, tpr, color='darkorange', lw=2, label='ROC curve (area = %0.2f)' % roc_auc)\n",
    "    plt.plot([0, 1], [0, 1], color='navy', lw=2, linestyle='--')\n",
    "    plt.xlim([0.0, 1.0])\n",
    "    plt.ylim([0.0, 1.05])\n",
    "    plt.xlabel('False Positive Rate')\n",
    "    plt.ylabel('True Positive Rate')\n",
    "    plt.title('ROC Curve')\n",
    "    plt.legend(loc=\"lower right\")\n",
    "    plt.show()\n",
    "\n",
    "# Example data for testing\n",
    "# y_test is the true labels for the test set\n",
    "# y_pred are the predicted probabilities or predicted labels\n",
    "# Replace these with your actual data and model predictions\n",
    "y_test = [0, 1, 0, 1, 0, 1]  # Example true labels (binary classification)\n",
    "y_pred = [0.1, 0.8, 0.4, 0.9, 0.2, 0.85]  # Example predicted probabilities (should be continuous values)\n",
    "\n",
    "# Call the function with your test data and predictions\n",
    "generate_results(y_test, y_pred)\n"
   ]
  },
  {
   "cell_type": "code",
   "execution_count": null,
   "id": "f1292a59",
   "metadata": {},
   "outputs": [],
   "source": []
  },
  {
   "cell_type": "code",
   "execution_count": null,
   "id": "c81a5a9d",
   "metadata": {},
   "outputs": [],
   "source": []
  }
 ],
 "metadata": {
  "kernelspec": {
   "display_name": "Python 3",
   "language": "python",
   "name": "python3"
  },
  "language_info": {
   "codemirror_mode": {
    "name": "ipython",
    "version": 3
   },
   "file_extension": ".py",
   "mimetype": "text/x-python",
   "name": "python",
   "nbconvert_exporter": "python",
   "pygments_lexer": "ipython3",
   "version": "3.8.8"
  }
 },
 "nbformat": 4,
 "nbformat_minor": 5
}
